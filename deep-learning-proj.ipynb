{
  "cells": [
    {
      "cell_type": "markdown",
      "metadata": {
        "id": "pHF4J3R9Fdt1"
      },
      "source": [
        "# Applied Deep Learning - Individual Assigment "
      ]
    },
    {
      "cell_type": "markdown",
      "metadata": {
        "id": "IlyLcfdqFduC"
      },
      "source": [
        "Matheus Maciel - 17003295"
      ]
    },
    {
      "cell_type": "markdown",
      "metadata": {
        "id": "lQJil4cwFduD"
      },
      "source": [
        "# Importing libraries"
      ]
    },
    {
      "cell_type": "code",
      "execution_count": null,
      "metadata": {
        "id": "MmVdo5GGFduD"
      },
      "outputs": [],
      "source": [
        "# data handling & manipulation \n",
        "import pandas as pd \n",
        "import numpy as np \n",
        "\n",
        "# visualisation \n",
        "import matplotlib.pyplot as plt \n",
        "import seaborn as sns\n",
        "\n",
        "# machine learning & neural networks \n",
        "import tensorflow as tf \n",
        "from tensorflow import keras\n",
        "from tensorflow.keras import layers\n",
        "from tensorflow.keras.layers import Flatten, Dense, SimpleRNN, BatchNormalization, LSTM, Conv1D, Embedding, GRU, Dropout\n",
        "from tensorflow.keras.models import Sequential\n",
        "from tensorflow.keras.optimizers import Adam, Nadam\n",
        "from tensorflow.keras.metrics import mean_squared_error\n",
        "from keras import Input\n",
        "from tensorflow.keras import backend as K\n"
      ]
    },
    {
      "cell_type": "markdown",
      "metadata": {
        "id": "93sGaoHjFduI"
      },
      "source": [
        "# Question 1 "
      ]
    },
    {
      "cell_type": "markdown",
      "metadata": {
        "id": "nI7WEE2qFduI"
      },
      "source": [
        "Create a **recurrent neural network** in TensorFlow to predict the operating mode of a wind turbine based on the two time series from the sensors. Before any implementation, carefully consider what type of approach: \n",
        "- sequence-to-vector\n",
        "- sequence-to-sequence\n",
        "- encoder-decoder\n",
        "   \n",
        "is most sensible here and how you need to manipulate the data, given that you have two different time series for each observation."
      ]
    },
    {
      "cell_type": "markdown",
      "metadata": {
        "id": "gX5dW93SFduJ"
      },
      "source": [
        "#### Data exploration "
      ]
    },
    {
      "cell_type": "code",
      "execution_count": null,
      "metadata": {
        "colab": {
          "base_uri": "https://localhost:8080/"
        },
        "id": "vRcUeTxcF9jP",
        "outputId": "a05b32af-c59b-4f7c-957b-b5371a54c087"
      },
      "outputs": [
        {
          "name": "stdout",
          "output_type": "stream",
          "text": [
            "Mounted at /content/drive\n"
          ]
        }
      ],
      "source": [
        "#from google.colab import drive\n",
        "#drive.mount('/content/drive')"
      ]
    },
    {
      "cell_type": "code",
      "execution_count": null,
      "metadata": {
        "id": "QusKR6P6FduJ"
      },
      "outputs": [],
      "source": [
        "# Loading data\n",
        "import pickle\n",
        "try:\n",
        "  with open ('time_series_1.pickle', 'rb') as handle:\n",
        "    time_series_1 = pickle.load (handle)\n",
        "    with open ('time_series_2.pickle','rb') as handle:\n",
        "      time_series_2 = pickle.load(handle)\n",
        "      with open(\"y.pickle\", 'rb') as handle:\n",
        "        y = pickle.load(handle)\n",
        "except:\n",
        "  with open ('/content/drive/MyDrive/CASS/time_series_1.pickle', 'rb') as handle:\n",
        "    time_series_1 = pickle.load (handle)\n",
        "    with open ('/content/drive/MyDrive/CASS/time_series_2.pickle','rb') as handle:\n",
        "      time_series_2 = pickle.load(handle)\n",
        "      with open(\"/content/drive/MyDrive/CASS/y.pickle\", 'rb') as handle:\n",
        "        y = pickle.load(handle)\n"
      ]
    },
    {
      "cell_type": "code",
      "execution_count": null,
      "metadata": {
        "colab": {
          "base_uri": "https://localhost:8080/"
        },
        "id": "Q46A-pyoFduJ",
        "outputId": "95d50559-83bb-4adb-b5fd-aa51ae7ae6ff"
      },
      "outputs": [
        {
          "name": "stdout",
          "output_type": "stream",
          "text": [
            "(4000, 5000)\n",
            "(4000, 5000)\n",
            "(4000,)\n"
          ]
        }
      ],
      "source": [
        "# Inspecting shape of data \n",
        "print(time_series_1.shape)       # Pitch angle   \n",
        "print(time_series_2.shape)       # Generator torque \n",
        "print(y.shape)"
      ]
    },
    {
      "cell_type": "code",
      "execution_count": null,
      "metadata": {
        "colab": {
          "base_uri": "https://localhost:8080/",
          "height": 35
        },
        "id": "BLX2wuZSFduK",
        "outputId": "0c8b30dd-d396-4ea1-fdfb-e4fc5f2bcbbc"
      },
      "outputs": [
        {
          "data": {
            "application/vnd.google.colaboratory.intrinsic+json": {
              "type": "string"
            },
            "text/plain": [
              "'plt.figure(figsize=(12,9))\\nfor x in time_series_1:\\n    plt.plot(x)    '"
            ]
          },
          "execution_count": 6,
          "metadata": {},
          "output_type": "execute_result"
        }
      ],
      "source": [
        "# plot time series 1 (pitch angle)\n",
        "\"\"\"plt.figure(figsize=(12,9))\n",
        "for x in time_series_1:\n",
        "    plt.plot(x)    \"\"\""
      ]
    },
    {
      "cell_type": "code",
      "execution_count": null,
      "metadata": {
        "colab": {
          "base_uri": "https://localhost:8080/",
          "height": 35
        },
        "id": "zCcJ73mIFduK",
        "outputId": "f913698c-dcb6-4e64-ed3e-d84e6db8d3bc"
      },
      "outputs": [
        {
          "data": {
            "application/vnd.google.colaboratory.intrinsic+json": {
              "type": "string"
            },
            "text/plain": [
              "'plt.figure(figsize=(12,9))\\nfor x in time_series_2:\\n    plt.plot(x)    '"
            ]
          },
          "execution_count": 7,
          "metadata": {},
          "output_type": "execute_result"
        }
      ],
      "source": [
        "# plot time series 2 (generator torque)\n",
        "\"\"\"plt.figure(figsize=(12,9))\n",
        "for x in time_series_2:\n",
        "    plt.plot(x)    \"\"\""
      ]
    },
    {
      "cell_type": "code",
      "execution_count": null,
      "metadata": {
        "colab": {
          "base_uri": "https://localhost:8080/"
        },
        "id": "EN-GVT9BFduL",
        "outputId": "0659819d-ee25-4161-ffb2-709a223e7828"
      },
      "outputs": [
        {
          "name": "stdout",
          "output_type": "stream",
          "text": [
            "(4000, 5000, 2)\n",
            "(4000,)\n"
          ]
        }
      ],
      "source": [
        "data = np.dstack((time_series_1,time_series_2))\n",
        "print(data.shape)\n",
        "print(y.shape)"
      ]
    },
    {
      "cell_type": "code",
      "execution_count": null,
      "metadata": {
        "colab": {
          "base_uri": "https://localhost:8080/",
          "height": 389
        },
        "id": "-BP6QRikFduL",
        "outputId": "a7a75b4b-d9c4-4c9d-c964-bad5d483e6bf"
      },
      "outputs": [
        {
          "name": "stdout",
          "output_type": "stream",
          "text": [
            "[[   0. 1000.]\n",
            " [   1. 1000.]\n",
            " [   2. 1000.]\n",
            " [   3. 1000.]]\n"
          ]
        },
        {
          "name": "stderr",
          "output_type": "stream",
          "text": [
            "/usr/local/lib/python3.7/dist-packages/seaborn/_decorators.py:43: FutureWarning: Pass the following variable as a keyword arg: x. From version 0.12, the only valid positional argument will be `data`, and passing other arguments without an explicit keyword will result in an error or misinterpretation.\n",
            "  FutureWarning\n"
          ]
        },
        {
          "data": {
            "image/png": "[encoded data removed]",
            "text/plain": [
              "<Figure size 432x288 with 1 Axes>"
            ]
          },
          "metadata": {
            "needs_background": "light"
          },
          "output_type": "display_data"
        }
      ],
      "source": [
        "# inspect distribution of classes \n",
        "sns.countplot(y)\n",
        "unique, counts = np.unique(y, return_counts=True)\n",
        "print(np.asarray((unique, counts)).T)"
      ]
    },
    {
      "cell_type": "markdown",
      "metadata": {
        "id": "mOQ00IU1FduL"
      },
      "source": [
        "- Balanced data set "
      ]
    },
    {
      "cell_type": "markdown",
      "metadata": {
        "id": "vUDGShYhFduL"
      },
      "source": [
        "#### Scaling data"
      ]
    },
    {
      "cell_type": "code",
      "execution_count": null,
      "metadata": {
        "colab": {
          "base_uri": "https://localhost:8080/"
        },
        "id": "YwUL3oWgFduM",
        "outputId": "a9ba26ab-6c92-4fee-eaf2-82e63b9c4238"
      },
      "outputs": [
        {
          "data": {
            "text/plain": [
              "array([[  1, 254],\n",
              "       [  2,   1],\n",
              "       [  1, 255],\n",
              "       ...,\n",
              "       [  0,   1],\n",
              "       [  0,   1],\n",
              "       [  0,   1]], dtype=uint8)"
            ]
          },
          "execution_count": 10,
          "metadata": {},
          "output_type": "execute_result"
        }
      ],
      "source": [
        "from sklearn.preprocessing import StandardScaler\n",
        "\n",
        "#For loop for scaling 3d array with sklearn \n",
        "scalers = {}\n",
        "for i in range(data.shape[1]):\n",
        "    scalers[i] = StandardScaler()\n",
        "    data[:, i, :] = scalers[i].fit_transform(data[:, i, :]) \n",
        "    \n",
        "data[1]"
      ]
    },
    {
      "cell_type": "markdown",
      "metadata": {
        "id": "J2RPd65OFduM"
      },
      "source": [
        "#### Train Test Split"
      ]
    },
    {
      "cell_type": "code",
      "execution_count": null,
      "metadata": {
        "id": "vkOy5gUyFduM"
      },
      "outputs": [],
      "source": [
        "# train test split \n",
        "X = data\n",
        "y \n",
        "\n",
        "from sklearn.model_selection import train_test_split\n",
        "X_train, X_other, y_train, y_other = train_test_split(X,y, train_size=0.7)\n",
        "X_valid, X_test, y_valid, y_test = train_test_split(X_other,y_other, test_size=0.5)"
      ]
    },
    {
      "cell_type": "code",
      "execution_count": null,
      "metadata": {
        "colab": {
          "base_uri": "https://localhost:8080/"
        },
        "id": "PWiHToAhFduM",
        "outputId": "90410977-ba84-4763-f931-8445b90307f7"
      },
      "outputs": [
        {
          "name": "stdout",
          "output_type": "stream",
          "text": [
            "(2800, 5000, 2)\n",
            "(600, 5000, 2)\n",
            "(600, 5000, 2)\n"
          ]
        }
      ],
      "source": [
        "#printing shapes of each set\n",
        "print(X_train.shape)\n",
        "print(X_valid.shape)\n",
        "print(X_test.shape)"
      ]
    },
    {
      "cell_type": "markdown",
      "metadata": {
        "id": "Z7w8pYpgFduN"
      },
      "source": [
        "### Build Model"
      ]
    },
    {
      "cell_type": "code",
      "execution_count": null,
      "metadata": {
        "id": "QJ_BH7GFFduU"
      },
      "outputs": [],
      "source": [
        "num_classes=len(np.unique(y_train))"
      ]
    },
    {
      "cell_type": "markdown",
      "metadata": {
        "id": "wrzaYEQQFduj"
      },
      "source": [
        "#### Simple RNN"
      ]
    },
    {
      "cell_type": "code",
      "execution_count": null,
      "metadata": {
        "id": "oFPtQMXwYvio"
      },
      "outputs": [],
      "source": [
        "# clean session \n",
        "tf.keras.backend.clear_session()"
      ]
    },
    {
      "cell_type": "code",
      "execution_count": null,
      "metadata": {
        "colab": {
          "base_uri": "https://localhost:8080/",
          "height": 312
        },
        "id": "EeLsDAv_Fduk",
        "outputId": "87dd335e-b11e-4dd0-8846-dcc5542701a3"
      },
      "outputs": [
        {
          "data": {
            "image/png": "[encoded data removed]",
            "text/plain": [
              "<IPython.core.display.Image object>"
            ]
          },
          "execution_count": 15,
          "metadata": {},
          "output_type": "execute_result"
        }
      ],
      "source": [
        "\n",
        "def make_model(input_shape):\n",
        "    \n",
        "    input_layer = keras.layers.Input(input_shape)\n",
        "    \n",
        "    sim_rnn = keras.Sequential()\n",
        "    \n",
        "    sim_rnn = keras.layers.SimpleRNN(64)(input_layer)\n",
        "\n",
        "    output_layer = keras.layers.Dense(num_classes, activation=\"softmax\")(sim_rnn)\n",
        "\n",
        "    return keras.models.Model(inputs=input_layer, outputs=output_layer)\n",
        "\n",
        "\n",
        "simple_rnn = make_model(input_shape=X_train.shape[1:])\n",
        "keras.utils.plot_model(simple_rnn, show_shapes=True)"
      ]
    },
    {
      "cell_type": "code",
      "execution_count": null,
      "metadata": {
        "colab": {
          "base_uri": "https://localhost:8080/",
          "height": 87
        },
        "id": "-5fsNFU8Fduo",
        "outputId": "d15cff8c-8d6f-4740-d24e-9cd142da0bd5"
      },
      "outputs": [
        {
          "data": {
            "application/vnd.google.colaboratory.intrinsic+json": {
              "type": "string"
            },
            "text/plain": [
              "'\\nsimple_rnn.compile(\\n    optimizer=\"adam\",\\n    loss=\"sparse_categorical_crossentropy\",\\n    metrics=[\"sparse_categorical_accuracy\"],\\n)\\nsimple_rnn_history = simple_rnn.fit(\\n    X_train,\\n    y_train,\\n    #batch_size=batch_size,\\n    epochs=20,\\n    #callbacks=callbacks,\\n    validation_data=(X_valid, y_valid),\\n)\\n\\nthe Simple RNN performs poorly compared to other models in the notebook, \\nachieving only a mediocre level of accuracy in a much longer time. Hence,\\nit is left commented, with only its structure being displayed above.\\n'"
            ]
          },
          "execution_count": 16,
          "metadata": {},
          "output_type": "execute_result"
        }
      ],
      "source": [
        "'''\n",
        "simple_rnn.compile(\n",
        "    optimizer=\"adam\",\n",
        "    loss=\"sparse_categorical_crossentropy\",\n",
        "    metrics=[\"sparse_categorical_accuracy\"],\n",
        ")\n",
        "simple_rnn_history = simple_rnn.fit(\n",
        "    X_train,\n",
        "    y_train,\n",
        "    #batch_size=batch_size,\n",
        "    epochs=20,\n",
        "    #callbacks=callbacks,\n",
        "    validation_data=(X_valid, y_valid),\n",
        ")\n",
        "\n",
        "the Simple RNN performs poorly compared to other models in the notebook, \n",
        "achieving only a mediocre level of accuracy in a much longer time. Hence,\n",
        "it is left commented, with only its structure being displayed above.\n",
        "'''"
      ]
    },
    {
      "cell_type": "code",
      "execution_count": null,
      "metadata": {
        "id": "RYFZAMAUPQ9B"
      },
      "outputs": [],
      "source": [
        "#simple_rnn_metrics = simple_rnn.evaluate(X_test, y_test)"
      ]
    },
    {
      "cell_type": "code",
      "execution_count": null,
      "metadata": {
        "id": "YFOzz6cOPbFx"
      },
      "outputs": [],
      "source": [
        "#simple_rnn_val_loss, simple_rnn_val_acc = simple_rnn_metrics\n",
        "#print(\"Model's loss (error) is:\", simple_rnn_val_loss)\n",
        "#print(\"Model's accuracy is: \",simple_rnn_val_acc)\n"
      ]
    },
    {
      "cell_type": "code",
      "execution_count": null,
      "metadata": {
        "id": "rct-bLSTPkzX"
      },
      "outputs": [],
      "source": [
        "# Visualising Training and Validation Loss\n",
        "#plt.plot(simple_rnn_history.history['loss'],label='train')\n",
        "#plt.plot(simple_rnn_history.history['val_loss'], label='valid')\n",
        "#plt.legend(['Training', 'Validation'])\n",
        "#plt.xlabel('Epochs')\n",
        "#plt.show()\n"
      ]
    },
    {
      "cell_type": "code",
      "execution_count": null,
      "metadata": {
        "id": "uGMMZLJGPlNx"
      },
      "outputs": [],
      "source": [
        "# Visualising Training and Validation Accuracy\n",
        "#plt.plot(simple_rnn_history.history['sparse_categorical_accuracy'])\n",
        "#plt.plot(simple_rnn_history.history['val_sparse_categorical_accuracy'])\n",
        "#plt.legend(['Training', 'Validation'])\n",
        "#plt.title('Accuracy')\n",
        "#plt.xlabel('Epochs')"
      ]
    },
    {
      "cell_type": "markdown",
      "metadata": {
        "id": "Z7mrgrjrFdut"
      },
      "source": [
        "#### LSTM"
      ]
    },
    {
      "cell_type": "code",
      "execution_count": null,
      "metadata": {
        "id": "atzHgGUHZNcl"
      },
      "outputs": [],
      "source": [
        "# clean session \n",
        "tf.keras.backend.clear_session()"
      ]
    },
    {
      "cell_type": "code",
      "execution_count": null,
      "metadata": {
        "colab": {
          "base_uri": "https://localhost:8080/",
          "height": 312
        },
        "id": "JLc98jRzFdut",
        "outputId": "906c11af-c338-40e5-866f-70ecee48ee73"
      },
      "outputs": [
        {
          "data": {
            "image/png": "[encoded data removed]",
            "text/plain": [
              "<IPython.core.display.Image object>"
            ]
          },
          "execution_count": 22,
          "metadata": {},
          "output_type": "execute_result"
        }
      ],
      "source": [
        "def make_model(input_shape):\n",
        "    \n",
        "    input_layer = keras.layers.Input(input_shape)\n",
        "    \n",
        "    lstm1 = keras.Sequential()\n",
        "    lstm1 = keras.layers.LSTM(64)(input_layer)\n",
        "\n",
        "    output_layer = keras.layers.Dense(num_classes, activation=\"softmax\")(lstm1)\n",
        "\n",
        "    return keras.models.Model(inputs=input_layer, outputs=output_layer)\n",
        "\n",
        "\n",
        "lstm_model = make_model(input_shape=X_train.shape[1:])\n",
        "keras.utils.plot_model(lstm_model, show_shapes=True)"
      ]
    },
    {
      "cell_type": "code",
      "execution_count": null,
      "metadata": {
        "colab": {
          "base_uri": "https://localhost:8080/"
        },
        "id": "leg6OwljFduu",
        "outputId": "43e75e38-6f57-4014-ff85-26c068add4e4"
      },
      "outputs": [
        {
          "name": "stdout",
          "output_type": "stream",
          "text": [
            "Epoch 1/20\n",
            "88/88 [==============================] - 152s 2s/step - loss: 1.3199 - sparse_categorical_accuracy: 0.3650 - val_loss: 1.2831 - val_sparse_categorical_accuracy: 0.3967\n",
            "Epoch 2/20\n",
            "86/88 [============================>.] - ETA: 3s - loss: 1.2600 - sparse_categorical_accuracy: 0.4124"
          ]
        }
      ],
      "source": [
        "lstm_model.compile(\n",
        "    optimizer=\"adam\",\n",
        "    loss=\"sparse_categorical_crossentropy\",\n",
        "    metrics=[\"sparse_categorical_accuracy\"],\n",
        ")\n",
        "lstm_history = lstm_model.fit(\n",
        "    X_train,\n",
        "    y_train,\n",
        "    epochs=20,\n",
        "    validation_data=(X_valid, y_valid),\n",
        ")"
      ]
    },
    {
      "cell_type": "code",
      "execution_count": null,
      "metadata": {
        "id": "Duyd9L6CPN5f"
      },
      "outputs": [],
      "source": [
        "lstm_metrics = lstm_model.evaluate(X_test, y_test)\n"
      ]
    },
    {
      "cell_type": "code",
      "execution_count": null,
      "metadata": {
        "id": "6R9kvZmVPyjT"
      },
      "outputs": [],
      "source": [
        "lstm_val_loss, lstm_val_acc = lstm_metrics\n",
        "print(\"Model's loss (error) is:\", lstm_val_loss)\n",
        "print(\"Model's accuracy is: \",lstm_val_acc)\n"
      ]
    },
    {
      "cell_type": "code",
      "execution_count": null,
      "metadata": {
        "id": "cWAsuUkgPzql"
      },
      "outputs": [],
      "source": [
        "# Visualising Training and Validation Loss\n",
        "plt.plot(lstm_history.history['loss'],label='train')\n",
        "plt.plot(lstm_history.history['val_loss'], label='valid')\n",
        "plt.legend(['Training', 'Validation'])\n",
        "plt.xlabel('Epochs')\n",
        "plt.show()"
      ]
    },
    {
      "cell_type": "code",
      "execution_count": null,
      "metadata": {
        "id": "FjiSTleQP2Eg"
      },
      "outputs": [],
      "source": [
        "# Visualising Training and Validation Accuracy\n",
        "plt.plot(lstm_history.history['sparse_categorical_accuracy'])\n",
        "plt.plot(lstm_history.history['val_sparse_categorical_accuracy'])\n",
        "plt.legend(['Training', 'Validation'])\n",
        "plt.title('Accuracy')\n",
        "plt.xlabel('Epochs')"
      ]
    },
    {
      "cell_type": "markdown",
      "metadata": {
        "id": "G9hYnNhkFduu"
      },
      "source": [
        "#### Conv1D"
      ]
    },
    {
      "cell_type": "code",
      "execution_count": null,
      "metadata": {
        "id": "DP6jhPCPZOzR"
      },
      "outputs": [],
      "source": [
        "# clean session \n",
        "tf.keras.backend.clear_session()"
      ]
    },
    {
      "cell_type": "code",
      "execution_count": null,
      "metadata": {
        "id": "eCW0cr-gFduu"
      },
      "outputs": [],
      "source": [
        "def make_model(input_shape):\n",
        "    \n",
        "    input_layer = keras.layers.Input(input_shape)\n",
        "    \n",
        "    conv_rnn = keras.Sequential()\n",
        "    conv_rnn = keras.layers.Conv1D(64, kernel_size=3, padding=\"same\")(input_layer)\n",
        "    gap = keras.layers.GlobalAveragePooling1D()(conv_rnn)\n",
        "\n",
        "    output_layer = keras.layers.Dense(num_classes, activation=\"softmax\")(gap)\n",
        "\n",
        "    return keras.models.Model(inputs=input_layer, outputs=output_layer)\n",
        "\n",
        "\n",
        "convd_model = make_model(input_shape=X_train.shape[1:])\n",
        "keras.utils.plot_model(convd_model, show_shapes=True)"
      ]
    },
    {
      "cell_type": "code",
      "execution_count": null,
      "metadata": {
        "id": "VVxsfAr_Fduv"
      },
      "outputs": [],
      "source": [
        "convd_model.compile(\n",
        "    optimizer=\"adam\",\n",
        "    loss=\"sparse_categorical_crossentropy\",\n",
        "    metrics=[\"sparse_categorical_accuracy\"],\n",
        ")\n",
        "convd_history = convd_model.fit(\n",
        "    X_train,\n",
        "    y_train,\n",
        "    epochs=20,\n",
        "    validation_data=(X_valid, y_valid)\n",
        ")"
      ]
    },
    {
      "cell_type": "code",
      "execution_count": null,
      "metadata": {
        "id": "6_tyiwi5N6H_"
      },
      "outputs": [],
      "source": [
        "convd_metrics = convd_model.evaluate(X_test, y_test)\n"
      ]
    },
    {
      "cell_type": "code",
      "execution_count": null,
      "metadata": {
        "id": "I7FUeaUsOkCR"
      },
      "outputs": [],
      "source": [
        "convd_val_loss, convd_val_acc = convd_metrics\n",
        "print(\"Model's loss (error) is:\", convd_val_loss)\n",
        "print(\"Model's accuracy is: \",convd_val_acc)\n"
      ]
    },
    {
      "cell_type": "code",
      "execution_count": null,
      "metadata": {
        "id": "kVXfGpqhOmYh"
      },
      "outputs": [],
      "source": [
        "\n",
        "# Visualising Training and Validation Loss\n",
        "plt.plot(convd_history.history['loss'],label='train')\n",
        "plt.plot(convd_history.history['val_loss'], label='valid')\n",
        "plt.legend(['Training', 'Validation'])\n",
        "plt.xlabel('Epochs')\n",
        "plt.show()\n"
      ]
    },
    {
      "cell_type": "code",
      "execution_count": null,
      "metadata": {
        "id": "nR5EFhmOOnTt"
      },
      "outputs": [],
      "source": [
        "\n",
        "## Visualising Training and Validation Accuracy\n",
        "plt.plot(convd_history.history['sparse_categorical_accuracy'])\n",
        "plt.plot(convd_history.history['val_sparse_categorical_accuracy'])\n",
        "plt.legend(['Training', 'Validation'])\n",
        "plt.title('Accuracy')\n",
        "plt.xlabel('Epochs')"
      ]
    },
    {
      "cell_type": "markdown",
      "metadata": {
        "id": "62jp4aomFduv"
      },
      "source": [
        "#### GRU"
      ]
    },
    {
      "cell_type": "code",
      "execution_count": null,
      "metadata": {
        "id": "PKkEhwiaZP1J"
      },
      "outputs": [],
      "source": [
        "# clean session \n",
        "tf.keras.backend.clear_session()"
      ]
    },
    {
      "cell_type": "code",
      "execution_count": null,
      "metadata": {
        "id": "HTXff0fPFduw"
      },
      "outputs": [],
      "source": [
        "\n",
        "def make_model(input_shape):\n",
        "    \n",
        "    input_layer = keras.layers.Input(input_shape)\n",
        "    \n",
        "    gru_model = keras.Sequential()\n",
        "    gru_model = keras.layers.GRU(64)(input_layer)\n",
        "\n",
        "    output_layer = keras.layers.Dense(num_classes, activation=\"softmax\")(gru_model)\n",
        "\n",
        "    return keras.models.Model(inputs=input_layer, outputs=output_layer)\n",
        "\n",
        "\n",
        "gru_model = make_model(input_shape=X_train.shape[1:])\n",
        "keras.utils.plot_model(gru_model, show_shapes=True)"
      ]
    },
    {
      "cell_type": "code",
      "execution_count": null,
      "metadata": {
        "id": "jtNeU3lxFduw"
      },
      "outputs": [],
      "source": [
        "gru_model.compile(\n",
        "    optimizer=\"adam\",\n",
        "    loss=\"sparse_categorical_crossentropy\",\n",
        "    metrics=[\"sparse_categorical_accuracy\"],\n",
        ")\n",
        "gru_history = gru_model.fit(\n",
        "    X_train,\n",
        "    y_train,\n",
        "    epochs=20,\n",
        "    validation_data=(X_valid, y_valid),\n",
        ")"
      ]
    },
    {
      "cell_type": "code",
      "execution_count": null,
      "metadata": {
        "id": "mRDWWsEXYngZ"
      },
      "outputs": [],
      "source": [
        "gru_metrics = gru_model.evaluate(X_test, y_test)"
      ]
    },
    {
      "cell_type": "code",
      "execution_count": null,
      "metadata": {
        "id": "-1W3IhhdMGhL"
      },
      "outputs": [],
      "source": [
        "gru_val_loss, gru_val_acc = gru_metrics\n",
        "print(\"Model's loss (error) is:\", gru_val_loss)\n",
        "print(\"Model's accuracy is: \",gru_val_acc)"
      ]
    },
    {
      "cell_type": "code",
      "execution_count": null,
      "metadata": {
        "id": "1fY87GOFLBJU"
      },
      "outputs": [],
      "source": [
        "# Visualising Training and Validation Loss\n",
        "plt.plot(gru_history.history['loss'],label='train')\n",
        "plt.plot(gru_history.history['val_loss'], label='valid')\n",
        "plt.legend(['Training', 'Validation'])\n",
        "plt.xlabel('Epochs')\n",
        "plt.show()\n",
        "\n",
        "## Visualising Training and Validation Accuracy\n",
        "plt.plot(gru_history.history['sparse_categorical_accuracy'])\n",
        "plt.plot(gru_history.history['val_sparse_categorical_accuracy'])\n",
        "plt.legend(['Training', 'Validation'])\n",
        "plt.title('Accuracy')\n",
        "plt.xlabel('Epochs')"
      ]
    },
    {
      "cell_type": "markdown",
      "metadata": {
        "id": "PFxjb4gEFdux"
      },
      "source": [
        "### METRICS - Model Comparison "
      ]
    },
    {
      "cell_type": "code",
      "execution_count": null,
      "metadata": {
        "id": "0yyz2ny-Fduy"
      },
      "outputs": [],
      "source": [
        "# Model performance visualisation \n",
        "from matplotlib import rcParams\n",
        "\n",
        "rcParams['figure.figsize'] = (18,8)\n",
        "rcParams['axes.spines.top'] = False\n",
        "rcParams['axes.spines.right'] = False\n",
        "\n",
        "#plt.plot(np.arange(1, 21), simple_rnn_history.history['sparse_categorical_accuracy'], label='Simple RNN')\n",
        "plt.plot(np.arange(1, 21), gru_history.history['sparse_categorical_accuracy'], label='GRU')\n",
        "plt.plot(np.arange(1, 21), lstm_history.history['sparse_categorical_accuracy'], label='LSTM')\n",
        "plt.plot(np.arange(1, 21), convd_history.history['sparse_categorical_accuracy'], label='Conv1D')\n",
        "\n",
        "plt.title('Accuracy evaluation', size=20)\n",
        "plt.xlabel('Epoch', size=14)\n",
        "plt.legend();"
      ]
    },
    {
      "cell_type": "markdown",
      "metadata": {
        "id": "DGH-TWTkIyvh"
      },
      "source": [
        "The **LSTM** Model shows the best performance in terms of accuracy across 20 Epochs compared to other models. \n",
        "\n",
        "All models at this stage were not adjusted for hyperparameters. Due to LSTM's performance, it will be the chosen model to be further optimised. "
      ]
    },
    {
      "cell_type": "markdown",
      "metadata": {
        "id": "qCT1U658JOru"
      },
      "source": [
        "### Optimisation and best LSTM Model"
      ]
    },
    {
      "cell_type": "code",
      "execution_count": null,
      "metadata": {
        "id": "gViA4BbXJbVQ"
      },
      "outputs": [],
      "source": [
        "# clean session \n",
        "tf.keras.backend.clear_session()\n",
        "\n",
        "def make_model(input_shape):\n",
        "    \n",
        "    input_layer = keras.layers.Input(input_shape)\n",
        "    \n",
        "    best_lstm = keras.Sequential()\n",
        "    best_lstm = keras.layers.LSTM(64, return_sequences=True)(input_layer)\n",
        "\n",
        "    best_lstm = keras.layers.Dropout(rate=0.2) (best_lstm)\n",
        "\n",
        "    best_lstm = keras.layers.BatchNormalization()(best_lstm)\n",
        "    best_lstm = keras.layers.ReLU()(best_lstm)\n",
        "\n",
        "    best_lstm2 = keras.layers.LSTM(32)(best_lstm)\n",
        "    #best_lstm2 = keras.layers.BatchNormalization()(best_lstm2)\n",
        "    #best_lstm2 = keras.layers.ReLU()(best_lstm2)\n",
        "\n",
        "    #best_lstm3 = keras.layers.LSTM(64)(best_lstm2)\n",
        "    #best_lstm3 = keras.layers.BatchNormalization()(best_lstm3)\n",
        "    #best_lstm3 = keras.layers.ReLU()(best_lstm3)\n",
        "\n",
        "    gap = keras.layers.GlobalAveragePooling1D()(best_lstm)\n",
        "    #conv_rnn = keras.layers.Flatten()(conv_rnn)\n",
        "\n",
        "    output_layer = keras.layers.Dense(num_classes, activation='softmax')(gap)\n",
        "\n",
        "    return keras.models.Model(inputs=input_layer, outputs=output_layer)\n",
        "\n",
        "\n",
        "best_model = make_model(input_shape=X_train.shape[1:])\n",
        "best_model.summary()\n",
        "#keras.utils.plot_model(convd_model, show_shapes=True)"
      ]
    },
    {
      "cell_type": "code",
      "execution_count": null,
      "metadata": {
        "id": "rRd3oZZuAIZG"
      },
      "outputs": [],
      "source": [
        "best_model.compile(\n",
        "    optimizer=\"adam\",\n",
        "    loss=\"sparse_categorical_crossentropy\",\n",
        "    metrics=[\"sparse_categorical_accuracy\"],\n",
        ")\n",
        "best_model_history = best_model.fit(\n",
        "    X_train,\n",
        "    y_train,\n",
        "    epochs=20,\n",
        "    validation_data=(X_valid, y_valid),\n",
        ")"
      ]
    },
    {
      "cell_type": "code",
      "execution_count": null,
      "metadata": {
        "id": "dO_iSSqMUNeo"
      },
      "outputs": [],
      "source": [
        "best_lstm_metrics = best_model.evaluate(X_test, y_test)\n",
        "## model would benefit from running on further epochs"
      ]
    },
    {
      "cell_type": "code",
      "execution_count": null,
      "metadata": {
        "id": "1PGyD18IUaQz"
      },
      "outputs": [],
      "source": [
        "best_lstm_val_loss, best_lstm_val_acc = best_lstm_metrics\n",
        "print(\"Model's loss (error) is:\", best_lstm_val_loss)\n",
        "print(\"Model's accuracy is: \",best_lstm_val_acc)\n",
        "# improved results from the original lstm"
      ]
    },
    {
      "cell_type": "code",
      "execution_count": null,
      "metadata": {
        "id": "kDNjFYeLU2M7"
      },
      "outputs": [],
      "source": [
        "# Visualising Training and Validation Loss\n",
        "plt.plot(best_model_history.history['loss'],label='train')\n",
        "plt.plot(best_model_history.history['val_loss'], label='valid')\n",
        "plt.legend(['Training', 'Validation'])\n",
        "plt.xlabel('Epochs')\n",
        "plt.show()"
      ]
    },
    {
      "cell_type": "code",
      "execution_count": null,
      "metadata": {
        "id": "7wKzRAvgVGtr"
      },
      "outputs": [],
      "source": [
        "# Visualising Training and Validation Accuracy\n",
        "plt.plot(best_model_history.history['sparse_categorical_accuracy'])\n",
        "plt.plot(best_model_history.history['val_sparse_categorical_accuracy'])\n",
        "plt.legend(['Training', 'Validation'])\n",
        "plt.title('Accuracy')\n",
        "plt.xlabel('Epochs')"
      ]
    },
    {
      "cell_type": "markdown",
      "metadata": {
        "id": "zw2Ji4n9Fduz"
      },
      "source": [
        "# Question 2"
      ]
    },
    {
      "cell_type": "markdown",
      "metadata": {
        "id": "H_2EX8uGFduz"
      },
      "source": [
        " In your own words, explain why the approach outlined here can help analyze time-series data and why it might outperform RNNs."
      ]
    },
    {
      "cell_type": "markdown",
      "metadata": {
        "id": "D7vALCpAFduz"
      },
      "source": [
        "The paper describes the methodology that converts time-series data into a picture, with the goal of reducing the complexity of the dataset and thus, provide more accurate predictions/classification. \n",
        "\n",
        "RNNs are commonly used for such tasks. That is due to the fact its structure of feeding previous data into subsequent parts of the network allows it to interpret sequences with precision - when forecasting the time-series, for instance. In this case, however, the dataset's size and large number of different parameters in each turbine, difficults the detection of anomalies within the time-series. The CNN method is able to simplify the data whilst not abdicating of accuracy, since the image is still able to keep details of the data. Features such as the kernels which are able to analyse sequences in the pixels of the image, along with activation and dropout functions that preserve the most important features for the NN leads to a model that is able to interpret key parts of the data with less complexity.  "
      ]
    },
    {
      "cell_type": "markdown",
      "metadata": {
        "id": "0CROyLOEFduz"
      },
      "source": [
        "# Question 3"
      ]
    },
    {
      "cell_type": "markdown",
      "metadata": {
        "id": "Lkxl5uCMFdu0"
      },
      "source": [
        "Convert the data for use with a CNN. In particular, following the approach outlined in Scenario 2 (section 5.3 of the paper) and summarized in Figure 18, convert the two time series corresponding to one wind turbine run into a single (100,100,1) array (i.e., a gray- scale image).\n"
      ]
    },
    {
      "cell_type": "code",
      "execution_count": null,
      "metadata": {
        "id": "sFuGFXLjFdu0"
      },
      "outputs": [],
      "source": [
        "# clean session \n",
        "tf.keras.backend.clear_session()"
      ]
    },
    {
      "cell_type": "code",
      "execution_count": null,
      "metadata": {
        "id": "tnHuiN4dFdu0"
      },
      "outputs": [],
      "source": [
        "# classes in the dataset\n",
        "num_classes = 4 \n",
        "\n",
        "# image dimensions \n",
        "img_rows, img_cols, img_channels = 100,50,1 \n",
        "\n",
        "# Depending on the implementation, the underlying libraries might want the image \n",
        "# dimensions in different orders, check for it and reshape\n",
        "if K.image_data_format() == 'channels_first':\n",
        "    time_series_1_reshape = time_series_1.reshape(time_series_1.shape[0], img_channels, img_rows, img_cols)\n",
        "    time_series_2_reshape = time_series_2.reshape(time_series_2.shape[0], img_channels, img_rows, img_cols)\n",
        "    input_shape = (img_channels, img_rows, img_cols)\n",
        "else:\n",
        "    time_series_1_reshape = time_series_1.reshape(time_series_1.shape[0], img_rows, img_cols, img_channels)\n",
        "    time_series_2_reshape = time_series_2.reshape(time_series_2.shape[0], img_rows, img_cols, img_channels)\n",
        "    input_shape = (img_rows, img_cols, img_channels)\n",
        "\n",
        "print(\"time_series_1_test shape:\", time_series_1_reshape.shape)\n",
        "print(\"time_series_2_test shape:\", time_series_2_reshape.shape)\n",
        "print(\"input shape:\", input_shape)"
      ]
    },
    {
      "cell_type": "code",
      "execution_count": null,
      "metadata": {
        "id": "al9vGUdaFdu0"
      },
      "outputs": [],
      "source": [
        "data_img = np.dstack((time_series_1_reshape,time_series_2_reshape))\n",
        "data_img.shape"
      ]
    },
    {
      "cell_type": "code",
      "execution_count": null,
      "metadata": {
        "id": "4d0bCdeuFdu1"
      },
      "outputs": [],
      "source": [
        "# train test split \n",
        "X_cnn = data_img\n",
        "y_cnn = y\n",
        "\n",
        "from sklearn.model_selection import train_test_split\n",
        "X_cnn_train, X_cnn_other, y_cnn_train, y_cnn_other = train_test_split(X_cnn,y_cnn, train_size=0.7)\n",
        "X_cnn_valid, X_cnn_test, y_cnn_valid, y_cnn_test = train_test_split(X_cnn_other,y_cnn_other, test_size=0.5)"
      ]
    },
    {
      "cell_type": "code",
      "execution_count": null,
      "metadata": {
        "id": "CxqjDblzW2eq"
      },
      "outputs": [],
      "source": [
        "plt.imshow(X_cnn_train[0], cmap='gray')"
      ]
    },
    {
      "cell_type": "code",
      "execution_count": null,
      "metadata": {
        "id": "Hepcj0UaFdu1"
      },
      "outputs": [],
      "source": [
        "# inspect shapes\n",
        "train_test = X_cnn_train, X_cnn_other, y_cnn_train, y_cnn_other, X_cnn_valid, X_cnn_test, y_cnn_valid, y_cnn_test\n",
        "\n",
        "for set in train_test: \n",
        "    print(set.shape)"
      ]
    },
    {
      "cell_type": "markdown",
      "metadata": {
        "id": "wY21BdzkFdu1"
      },
      "source": [
        "# Question 4"
      ]
    },
    {
      "cell_type": "code",
      "execution_count": null,
      "metadata": {
        "id": "-Lp0cuytFdu2"
      },
      "outputs": [],
      "source": [
        "# scaling data\n",
        "X_cnn_scaled_train = X_cnn_train / 255\n",
        "X_cnn_scaled_test = X_cnn_test / 255\n",
        "X_cnn_scaled_other = X_cnn_other / 255\n",
        "X_cnn_scaled_valid = X_cnn_valid / 255"
      ]
    },
    {
      "cell_type": "code",
      "execution_count": null,
      "metadata": {
        "id": "EMFYoRd5Fdu3"
      },
      "outputs": [],
      "source": [
        "# replicating cnn model\n",
        "\n",
        "def make_model(input_shape):\n",
        "    input_layer = keras.layers.Input(input_shape)\n",
        "    \n",
        "    cnn = keras.Sequential()\n",
        "    cnn = keras.layers.Conv2D(32, kernel_size=(3,3), padding='valid') (input_layer)\n",
        "    cnn = keras.layers.Dropout(rate=0.2) (cnn)\n",
        "    cnn = keras.layers.Conv2D(16, kernel_size=(3,3), padding='valid') (cnn)\n",
        "    cnn = keras.layers.ReLU() (cnn)\n",
        "    max = keras.layers.MaxPooling2D(pool_size=(3,3)) (cnn) \n",
        "    cnn = keras.layers.Flatten()(cnn)\n",
        "    output_layer = keras.layers.Dense(num_classes, activation=\"softmax\")(cnn)\n",
        "    \n",
        "    return keras.models.Model(inputs=input_layer, outputs=output_layer)\n",
        "\n",
        "cnn_model = make_model(input_shape=X_cnn_scaled_train.shape[1:])\n",
        "keras.utils.plot_model(cnn_model, show_shapes=True)"
      ]
    },
    {
      "cell_type": "code",
      "execution_count": null,
      "metadata": {
        "id": "XRNHRU9wFdu4"
      },
      "outputs": [],
      "source": [
        "# compile & fit model\n",
        "cnn_model.compile(\n",
        "    optimizer=\"adam\",\n",
        "    loss=\"sparse_categorical_crossentropy\",\n",
        "    metrics=[\"sparse_categorical_accuracy\"],\n",
        ")\n",
        "cnn_model_history = cnn_model.fit(\n",
        "    X_cnn_scaled_train,\n",
        "    y_cnn_train,\n",
        "    epochs=20,\n",
        "    validation_data=(X_cnn_scaled_valid, y_cnn_valid),\n",
        ")"
      ]
    },
    {
      "cell_type": "code",
      "execution_count": null,
      "metadata": {
        "id": "F61nON6HXWIx"
      },
      "outputs": [],
      "source": [
        "cnn_metrics = cnn_model.evaluate(X_cnn_scaled_test, y_cnn_test)"
      ]
    },
    {
      "cell_type": "code",
      "execution_count": null,
      "metadata": {
        "id": "SYfji7zyXjg9"
      },
      "outputs": [],
      "source": [
        "cnn_val_loss, cnn_val_acc = cnn_metrics\n",
        "print(\"Model's loss (error) is:\", cnn_val_loss)\n",
        "print(\"Model's accuracy is: \",cnn_val_acc)"
      ]
    },
    {
      "cell_type": "markdown",
      "metadata": {
        "id": "pLJXKcX-CIbV"
      },
      "source": [
        "# question 5"
      ]
    },
    {
      "cell_type": "code",
      "execution_count": null,
      "metadata": {
        "id": "BtJD4VnICK9h"
      },
      "outputs": [],
      "source": [
        "%%capture\n",
        "from keras.models import Model\n",
        "from keras.layers import Conv2D , Conv3D, DepthwiseConv2D, SeparableConv2D, Conv3DTranspose\n",
        "from keras.layers import MaxPool2D, AvgPool2D, GlobalAvgPool2D, UpSampling2D\n",
        "from keras.layers import Concatenate, Add, ReLU, Lambda, Activation \n",
        "\n",
        "from IPython.display import SVG\n",
        "from keras.utils.vis_utils import model_to_dot\n",
        "\n",
        "from time import time"
      ]
    },
    {
      "cell_type": "code",
      "execution_count": null,
      "metadata": {
        "id": "ndIWo7s4CwGi"
      },
      "outputs": [],
      "source": [
        "# clean session \n",
        "tf.keras.backend.clear_session()"
      ]
    },
    {
      "cell_type": "markdown",
      "metadata": {
        "id": "KnCZZjbmCzxg"
      },
      "source": [
        "#### Using the structure of pre-trained architectures "
      ]
    },
    {
      "cell_type": "markdown",
      "metadata": {
        "id": "qmBw5-oaC5A0"
      },
      "source": [
        "A great part of this project/assignment tasks are based on trial and error testing. \n",
        "\n",
        "The models however, can take time to be tested to check their full accuracy and trial/error adjustments can take long. For this reason, different models were tested across different devices and platforms (e.g a model runninng on colab, while a different was being ran on vs code, while a different one could be running on a separate colab in a different device.)\n",
        "\n",
        "To include all variations in this single notebook would thus be complicated since it would be necessary to wait for all models and their trial/error variations to be fully completed to show the progress of each alteration. Hence, the following model is the result of the best result i could achieve, upon trialing  different approaches. "
      ]
    },
    {
      "cell_type": "code",
      "execution_count": null,
      "metadata": {
        "id": "5RTt4Oc1C4ia"
      },
      "outputs": [],
      "source": [
        "def mobilenet(input_shape, n_classes):\n",
        "  \n",
        "  def mobilenet_block(x, f, s=1):\n",
        "    x = DepthwiseConv2D(3, strides=s, padding='same')(x)\n",
        "    x = BatchNormalization()(x)\n",
        "    x = ReLU()(x)\n",
        "    \n",
        "    x = Conv2D(f, 1, strides=1, padding='same')(x)\n",
        "    x = BatchNormalization()(x)\n",
        "    x = ReLU()(x)\n",
        "    return x\n",
        "    \n",
        "    \n",
        "  input = Input(input_shape)\n",
        "\n",
        "  x = Conv2D(32, 3, strides=2, padding='same')(input)\n",
        "  x = BatchNormalization()(x)\n",
        "  x = ReLU()(x)\n",
        "\n",
        "  x = mobilenet_block(x, 64)\n",
        "  x = mobilenet_block(x, 128, 2)\n",
        "  x = mobilenet_block(x, 128)\n",
        "\n",
        "  x = mobilenet_block(x, 256, 2)\n",
        "  x = mobilenet_block(x, 256)\n",
        "\n",
        "  x = mobilenet_block(x, 512, 2)\n",
        "  for _ in range(5):\n",
        "    x = mobilenet_block(x, 512)\n",
        "\n",
        "  x = mobilenet_block(x, 1024, 2)\n",
        "  x = mobilenet_block(x, 1024)\n",
        "  \n",
        "  x = GlobalAvgPool2D()(x)\n",
        "  \n",
        "  output = Dense(n_classes, activation='softmax')(x)\n",
        "  \n",
        "  model = Model(input, output)\n",
        "  return model"
      ]
    },
    {
      "cell_type": "code",
      "execution_count": null,
      "metadata": {
        "id": "RTr9o4-0D3e6"
      },
      "outputs": [],
      "source": [
        "mobilenet_model = mobilenet(X_cnn_scaled_train.shape[1:],num_classes)"
      ]
    },
    {
      "cell_type": "code",
      "execution_count": null,
      "metadata": {
        "id": "4hBmZVMaD7KT"
      },
      "outputs": [],
      "source": [
        "## ACC >80\n",
        "mobilenet_model.compile(\n",
        "    optimizer=\"adam\",\n",
        "    loss=\"sparse_categorical_crossentropy\",\n",
        "    metrics=[\"sparse_categorical_accuracy\"],\n",
        ")\n",
        "mobilenet_model_history = mobilenet_model.fit(\n",
        "    X_cnn_scaled_train,\n",
        "    y_cnn_train,\n",
        "    epochs=20,\n",
        "    validation_data=(X_cnn_scaled_valid, y_cnn_valid),\n",
        "    callbacks=[keras.callbacks.EarlyStopping(monitor=\"val_loss\", patience=50, verbose=1)]   # callback early stop to prevent overfit\n",
        ")"
      ]
    },
    {
      "cell_type": "code",
      "execution_count": null,
      "metadata": {
        "id": "Ze8Ukss9D9D5"
      },
      "outputs": [],
      "source": [
        "mobilenet_metrics = mobilenet_model.evaluate(X_cnn_scaled_test, y_cnn_test)\n",
        "\n",
        "mobilenet_val_loss, mobilenet_val_acc = mobilenet_metrics\n",
        "print(\"Model's loss (error) is:\", mobilenet_val_loss)\n",
        "print(\"Model's accuracy is: \",mobilenet_val_acc)"
      ]
    },
    {
      "cell_type": "markdown",
      "metadata": {
        "id": "5nSRfoq4EDR-"
      },
      "source": [
        "# Question 6 "
      ]
    },
    {
      "cell_type": "markdown",
      "metadata": {
        "id": "WDKnu6l9ELsa"
      },
      "source": [
        "### Training model on combined train and validation set , evaluating on test "
      ]
    },
    {
      "cell_type": "code",
      "execution_count": null,
      "metadata": {
        "id": "yvD-G6EFEFF-"
      },
      "outputs": [],
      "source": [
        "X_comb = np.concatenate((X_cnn_scaled_train,X_cnn_scaled_valid))\n",
        "y_comb= np.concatenate((y_cnn_train,y_cnn_valid))"
      ]
    },
    {
      "cell_type": "code",
      "execution_count": null,
      "metadata": {
        "id": "meKUJD4BY1Ur"
      },
      "outputs": [],
      "source": [
        "print(X_comb.shape)\n",
        "print(y_comb.shape)"
      ]
    },
    {
      "cell_type": "code",
      "execution_count": null,
      "metadata": {
        "id": "6_cdSqV0FFRn"
      },
      "outputs": [],
      "source": [
        "best_model_final = mobilenet_model.fit(\n",
        "    X_comb,\n",
        "    y_comb,\n",
        "    epochs=20,\n",
        "    callbacks=[keras.callbacks.EarlyStopping(monitor=\"loss\", patience=50, verbose=1)]   # callback early stop to prevent overfit\n",
        ")"
      ]
    },
    {
      "cell_type": "code",
      "execution_count": null,
      "metadata": {
        "id": "YvmhKVuXFxBz"
      },
      "outputs": [],
      "source": [
        "best_cnn_metrics = mobilenet_model.evaluate(X_cnn_scaled_test, y_cnn_test)\n",
        "\n",
        "best_cnn_loss, best_cnn_val_acc = best_cnn_metrics\n",
        "print(\"Model's loss (error) is:\", best_cnn_loss)\n",
        "print(\"Model's accuracy is: \",best_cnn_val_acc)"
      ]
    },
    {
      "cell_type": "code",
      "execution_count": null,
      "metadata": {
        "id": "dU5vt54PFwSe"
      },
      "outputs": [],
      "source": [
        "# Save the entire model to a HDF5 file.\n",
        "mobilenet_model.save('model_q6.h5')"
      ]
    },
    {
      "cell_type": "markdown",
      "metadata": {},
      "source": [
        "My two best formulated models were an LSTM and the CNN utilising the MobileNET Structure. My choice for the MobileNet is due to the fact it was able to achieve better results compared to the LSTM, whilst still being faster and hence less computationally intensive. The CNN approach by turning the image into pictures is able to better detect the anomalies in the dataset and not lose on the granularities, even when being evaluated against the combination of tests/validation sets, with both better accuracy and losses. The LSTM would require a further number of epochs to reach the same level of performance to the MNet,  which in this case was not possible to implement , again pointing to MNet's advantage over it. "
      ]
    },
    {
      "cell_type": "markdown",
      "metadata": {
        "id": "B3xF9qBCW1kw"
      },
      "source": [
        "# Display Results "
      ]
    },
    {
      "cell_type": "code",
      "execution_count": null,
      "metadata": {
        "id": "6RaRcjJLW_Z9"
      },
      "outputs": [],
      "source": [
        "# import pandas library\n",
        "import pandas as pd\n",
        "  \n",
        "# dictionary with list object in values\n",
        "results = {\n",
        "    'Model' : ['LSTM', 'GRU', 'Conv1D', 'Improved_LSTM', 'CNN', 'MobileNet'],\n",
        "    'Accuracy' : [lstm_val_acc, gru_val_acc ,convd_val_acc, best_lstm_val_acc, cnn_val_acc, best_cnn_val_acc],\n",
        "    'Loss' : [lstm_val_loss, gru_val_loss ,convd_val_loss, best_lstm_val_loss, cnn_val_loss, best_cnn_loss],\n",
        "}\n",
        "  \n",
        "# creating a Dataframe object \n",
        "df = pd.DataFrame(results)\n",
        "  \n",
        "df"
      ]
    }
  ],
  "metadata": {
    "accelerator": "GPU",
    "colab": {
      "collapsed_sections": [
        "vUDGShYhFduL",
        "J2RPd65OFduM",
        "wrzaYEQQFduj",
        "Z7mrgrjrFdut",
        "KnCZZjbmCzxg"
      ],
      "name": "COPY_MacielMatheus_SMM768.ipynb",
      "provenance": []
    },
    "interpreter": {
      "hash": "40d3a090f54c6569ab1632332b64b2c03c39dcf918b08424e98f38b5ae0af88f"
    },
    "kernelspec": {
      "display_name": "Python 3.9.7 ('base')",
      "language": "python",
      "name": "python3"
    },
    "language_info": {
      "codemirror_mode": {
        "name": "ipython",
        "version": 3
      },
      "file_extension": ".py",
      "mimetype": "text/x-python",
      "name": "python",
      "nbconvert_exporter": "python",
      "pygments_lexer": "ipython3",
      "version": "3.9.7"
    },
    "orig_nbformat": 4
  },
  "nbformat": 4,
  "nbformat_minor": 0
}
